{
 "cells": [
  {
   "cell_type": "markdown",
   "metadata": {},
   "source": [
    "Char-RNN\n",
    "---\n",
    "\n",
    "The main difference of this RNN is that you give a large chunk of text and it will learn to generate text like it __one character__ at a time.\n",
    "\n"
   ]
  },
  {
   "cell_type": "code",
   "execution_count": null,
   "metadata": {
    "collapsed": true
   },
   "outputs": [],
   "source": []
  }
 ],
 "metadata": {
  "kernelspec": {
   "display_name": "iTorch",
   "language": "lua",
   "name": "itorch"
  },
  "language_info": {
   "name": "lua",
   "version": "20100"
  }
 },
 "nbformat": 4,
 "nbformat_minor": 0
}
