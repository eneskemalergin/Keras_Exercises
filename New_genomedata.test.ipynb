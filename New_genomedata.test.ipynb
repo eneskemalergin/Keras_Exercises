{
 "cells": [
  {
   "cell_type": "markdown",
   "metadata": {},
   "source": [
    "    Import Libraries to Use"
   ]
  },
  {
   "cell_type": "code",
   "execution_count": 1,
   "metadata": {
    "collapsed": false
   },
   "outputs": [],
   "source": [
    "import pandas as pd\n",
    "import numpy as np\n",
    "import matplotlib as plt\n",
    "from genomedata import Genome"
   ]
  },
  {
   "cell_type": "markdown",
   "metadata": {},
   "source": [
    "    Current Location"
   ]
  },
  {
   "cell_type": "code",
   "execution_count": 2,
   "metadata": {
    "collapsed": false
   },
   "outputs": [
    {
     "data": {
      "text/plain": [
       "u'/home/enes/DataManagement'"
      ]
     },
     "execution_count": 2,
     "metadata": {},
     "output_type": "execute_result"
    }
   ],
   "source": [
    "pwd"
   ]
  },
  {
   "cell_type": "markdown",
   "metadata": {},
   "source": [
    "    Open the file \n",
    "    Check the file"
   ]
  },
  {
   "cell_type": "code",
   "execution_count": 3,
   "metadata": {
    "collapsed": true
   },
   "outputs": [],
   "source": [
    "gdfile = \"/home/enes/Desktop/Workspace/All_Hg38_HeLa.test/\"\n",
    "genome = Genome(gdfile)"
   ]
  },
  {
   "cell_type": "markdown",
   "metadata": {},
   "source": [
    "    Get only 1 chromosome (chr1)"
   ]
  },
  {
   "cell_type": "code",
   "execution_count": 14,
   "metadata": {
    "collapsed": true
   },
   "outputs": [],
   "source": [
    "chromosome = genome['chr6']"
   ]
  },
  {
   "cell_type": "markdown",
   "metadata": {},
   "source": [
    "    Get specific seq out of it"
   ]
  },
  {
   "cell_type": "code",
   "execution_count": 15,
   "metadata": {
    "collapsed": false
   },
   "outputs": [
    {
     "data": {
      "text/plain": [
       "array([ 97, 116, 103,  97,  97, 116, 116, 116, 116,  97,  97,  99,  97,\n",
       "        97,  97, 116, 103,  97,  99,  97,  99,  97,  97,  97,  97, 103,\n",
       "       103, 116, 116, 103,  97, 116,  97, 116,  97,  99,  97,  99,  97,\n",
       "       103,  97,  97, 103,  97,  97,  97, 116, 103,  97,  99,  97,  97,\n",
       "       116, 103, 116, 103, 103,  97, 116, 116, 116,  99, 116, 116,  97,\n",
       "        97, 116,  97, 116, 116, 116,  97,  97,  97, 103, 116, 116, 116,\n",
       "        97, 116,  97,  99, 116,  99, 116, 103, 103,  97, 103,  97,  97,\n",
       "       103,  97,  99,  99, 116, 116, 103, 116, 116,  97,  97, 103,  97,\n",
       "       116,  97,  97,  99,  97,  97,  97,  97,  97, 103,  97,  99,  97,\n",
       "        97, 103,  99,  99,  97,  99,  97, 116,  97, 116, 116, 103,  97,\n",
       "        97, 103,  97,  97,  97,  97, 116,  97, 116, 116, 116, 103,  99,\n",
       "        97,  97,  97,  97, 116,  97,  99,  97, 103,  97, 116,  99, 116,\n",
       "       103,  97, 103,  97,  97, 116, 116, 116, 103, 116,  97, 116, 116,\n",
       "        99,  97,  97,  97,  97, 116,  97, 116,  97, 116, 116, 116,  97,\n",
       "        97,  97,  97,  97, 116, 116,  99, 116, 116,  97,  97,  97,  97,\n",
       "        99, 116,  97,  97,  97,  99,  97,  97, 116,  97,  97, 103, 116,\n",
       "       116,  97,  97,  97,  99,  97, 103,  99,  99,  99,  97,  97, 116,\n",
       "       116,  97,  97,  97,  97,  97, 103, 103,  99,  97,  99,  97,  99,\n",
       "        97, 103,  97, 116,  99, 116,  99,  97,  97,  99,  97, 103,  97,\n",
       "        99,  97, 116,  99, 116, 116,  97,  99,  99,  97,  97, 103, 103,\n",
       "        97,  97, 103,  97, 116,  99, 116,  97,  99,  97, 103,  97, 116,\n",
       "       103, 103,  99,  97, 103, 103, 116,  97,  97,  97,  99,  97, 116,\n",
       "        97,  99,  97,  97,  97,  97,  97,  99,  97, 116, 103,  99, 116,\n",
       "        99,  97,  97,  99,  97, 116, 103,  99, 116,  97, 103,  97, 103,\n",
       "        97,  97,  99, 116, 103,  97,  97,  97,  97,  99,  99,  97,  99,\n",
       "        97,  97, 116, 103,  97, 103,  97, 116,  97, 103,  99,  97,  99,\n",
       "        97, 103,  99, 116, 103, 103, 116,  99, 116, 103,  99,  97, 116,\n",
       "        99, 116,  99, 116, 116,  97, 103,  97,  97,  99, 116, 103,  99,\n",
       "       116,  97,  97,  97,  99, 116,  99, 116, 116, 116,  97,  97,  97,\n",
       "        97,  97,  97, 116, 103,  97,  99,  97,  97,  97, 116, 116, 103,\n",
       "        99, 116, 103, 103,  97, 103, 103,  97,  97,  97,  97,  97,  99,\n",
       "        97,  97, 103,  97,  97,  99, 116,  99, 116, 116, 116, 116,  99,\n",
       "        97, 116, 116, 103,  99,  99, 103, 103, 116, 103, 103,  97,  97,\n",
       "        67,  65,  67,  65,  71,  84,  71,  84,  65,  84,  65,  97, 103,\n",
       "        97,  99,  99,  97,  97,  97,  97, 116,  97, 116, 103,  99,  99,\n",
       "        97,  99,  99,  99,  99,  97,  97,  97,  97, 116,  97, 116,  97,\n",
       "        97, 116, 103, 103, 116,  97, 103, 103,  97,  97,  97,  99,  99,\n",
       "        97, 103,  97,  97, 116,  97, 116, 103,  99,  99,  97,  99,  99,\n",
       "        99,  99,  97,  97,  97,  97, 116,  97, 116, 103, 116,  99,  99,\n",
       "        99, 116, 116, 116, 116, 103,  99, 116, 116,  97,  97, 103,  97,\n",
       "        97, 116, 116,  97, 116, 116,  99,  99,  97,  97, 103,  99, 116,\n",
       "       103,  97, 116, 116,  97, 116, 116, 116, 116, 103,  97,  97,  97,\n",
       "        97,  97,  97,  97,  97,  97,  97,  97, 116, 103,  99, 116,  97,\n",
       "        97,  99,  97,  97,  97, 103, 103,  97,  97, 103, 116, 116,  99,\n",
       "       116, 103,  97,  97,  97,  97,  99,  97, 103,  97, 103, 116,  97,\n",
       "       103,  97,  97, 103, 116, 116,  97,  99,  99,  99, 116, 116, 103,\n",
       "       116, 103, 116,  97,  97, 103, 103, 103,  97,  97,  97, 116, 116,\n",
       "       116,  97,  99,  97, 116,  99, 116,  97, 116,  97,  97,  97, 103,\n",
       "       103,  97,  97,  97, 116,  99,  99,  99,  99,  97, 116, 116,  99,\n",
       "        97,  97,  97,  97, 103,  99, 116,  97,  99,  99, 116,  99, 116,\n",
       "        99, 116,  99,  97,  97,  99,  97,  99,  99,  97,  97, 103,  97,\n",
       "        97, 103,  97, 103,  97,  97, 103, 103,  97, 116,  97,  97,  99,\n",
       "       116,  97,  97,  97, 116,  99,  97,  99, 116,  97,  97,  97, 103,\n",
       "        97, 103, 116,  99, 116, 116,  97, 116,  99,  97,  97, 116, 103,\n",
       "       103,  97, 103,  97,  99, 116, 103,  99,  97, 116, 103, 103,  97,\n",
       "        99, 116, 116,  97,  97, 103, 116,  99, 116, 103, 116,  97, 116,\n",
       "        97,  97,  99,  97,  97,  97,  99,  99, 116, 116,  97,  99,  99,\n",
       "        99, 116, 116, 103, 116,  99, 116,  97,  99, 116, 103, 116, 103,\n",
       "        99, 116, 116, 116, 116, 103,  99, 116, 103, 103,  99, 116,  97,\n",
       "        97,  99, 116,  99,  99,  99,  99,  97,  99, 116,  97,  99, 116,\n",
       "       103,  99,  97,  99,  99, 116,  99,  97,  97,  97, 116,  99, 116,\n",
       "       116,  99, 116, 116, 116,  99, 116, 116, 116,  97,  97, 103, 116,\n",
       "       116,  99,  97,  97,  99,  97], dtype=uint8)"
      ]
     },
     "execution_count": 15,
     "metadata": {},
     "output_type": "execute_result"
    }
   ],
   "source": [
    "seq = chromosome.seq[150023:150835]\n",
    "seq"
   ]
  },
  {
   "cell_type": "code",
   "execution_count": 16,
   "metadata": {
    "collapsed": false
   },
   "outputs": [
    {
     "data": {
      "text/plain": [
       "array([[  1.84000003,   1.        ,   1.15999997, ...,   2.92000008,\n",
       "          1.        ,   0.80000001],\n",
       "       [  1.84000003,   1.        ,   1.15999997, ...,   2.92000008,\n",
       "          1.        ,   0.80000001],\n",
       "       [  1.84000003,   1.        ,   1.15999997, ...,   2.92000008,\n",
       "          1.        ,   0.80000001],\n",
       "       ..., \n",
       "       [  1.        ,   3.        ,   9.68000031, ...,   2.        ,\n",
       "         13.        ,          nan],\n",
       "       [  1.        ,   3.        ,   9.68000031, ...,   2.        ,\n",
       "         13.        ,          nan],\n",
       "       [  1.        ,   3.        ,   9.68000031, ...,   2.        ,\n",
       "         13.        ,          nan]], dtype=float32)"
      ]
     },
     "execution_count": 16,
     "metadata": {},
     "output_type": "execute_result"
    }
   ],
   "source": [
    "chromosome[150000:150500]"
   ]
  },
  {
   "cell_type": "code",
   "execution_count": 18,
   "metadata": {
    "collapsed": false
   },
   "outputs": [
    {
     "data": {
      "text/plain": [
       "2"
      ]
     },
     "execution_count": 18,
     "metadata": {},
     "output_type": "execute_result"
    }
   ],
   "source": [
    "len(np.where(np.isnan(chromosome[150000:150800])))"
   ]
  },
  {
   "cell_type": "markdown",
   "metadata": {},
   "source": [
    "    Get string version of the seq"
   ]
  },
  {
   "cell_type": "code",
   "execution_count": null,
   "metadata": {
    "collapsed": false
   },
   "outputs": [],
   "source": [
    "seq.tostring()"
   ]
  },
  {
   "cell_type": "markdown",
   "metadata": {},
   "source": [
    "In the human genome first characters were Ns so it is normal \n",
    "\n",
    "    lets try more"
   ]
  },
  {
   "cell_type": "code",
   "execution_count": null,
   "metadata": {
    "collapsed": false
   },
   "outputs": [],
   "source": [
    "seq = chromosome.seq[9999:10010]\n",
    "print seq\n",
    "print seq.tostring()"
   ]
  },
  {
   "cell_type": "markdown",
   "metadata": {},
   "source": [
    "    Find how many N's in the beginning\n",
    "    With this I can find where actual string starts"
   ]
  },
  {
   "cell_type": "code",
   "execution_count": null,
   "metadata": {
    "collapsed": false
   },
   "outputs": [],
   "source": [
    "def findNs(uplimit):\n",
    "    seq = chromosome.seq[0:uplimit]\n",
    "    count = 0\n",
    "    for i in np.nditer(seq):\n",
    "        if i == 78:\n",
    "            count += 1\n",
    "    \n",
    "    print (\"Number of N's are: \" + str(count))\n",
    "\n",
    "findNs(10000)"
   ]
  },
  {
   "cell_type": "markdown",
   "metadata": {},
   "source": [
    "    Finding if there are NaN's Inside"
   ]
  },
  {
   "cell_type": "code",
   "execution_count": null,
   "metadata": {
    "collapsed": false
   },
   "outputs": [],
   "source": [
    "def findNaNs(downlimit,uplimit):\n",
    "    seq = chromosome.seq[downlimit:uplimit]\n",
    "    count = 0\n",
    "    for i in np.nditer(seq):\n",
    "        if np.isnan(i):\n",
    "            count += 1\n",
    "    print(\"Number of NaNs in between \" + str(downlimit) + \" and \"+ str(uplimit) + \" is: \" + str(count))\n",
    "          \n",
    "findNaNs(chromosome.start, chromosome.end)"
   ]
  },
  {
   "cell_type": "code",
   "execution_count": null,
   "metadata": {
    "collapsed": false
   },
   "outputs": [],
   "source": [
    "for supercontig in chromosome:\n",
    "    print supercontig  # calls repr()\n"
   ]
  },
  {
   "cell_type": "markdown",
   "metadata": {},
   "source": [
    "    Get the 10000th element in neg track"
   ]
  },
  {
   "cell_type": "code",
   "execution_count": null,
   "metadata": {
    "collapsed": false
   },
   "outputs": [],
   "source": [
    "(chromosome[10000 , \"neg\"]) "
   ]
  },
  {
   "cell_type": "markdown",
   "metadata": {},
   "source": [
    "    Lets try more and see different ones"
   ]
  },
  {
   "cell_type": "code",
   "execution_count": null,
   "metadata": {
    "collapsed": false
   },
   "outputs": [],
   "source": [
    "chromosome[1234567, \"pos\"]"
   ]
  },
  {
   "cell_type": "code",
   "execution_count": null,
   "metadata": {
    "collapsed": false
   },
   "outputs": [],
   "source": [
    "chromosome[1234567, \"neg\"]"
   ]
  },
  {
   "cell_type": "code",
   "execution_count": null,
   "metadata": {
    "collapsed": false
   },
   "outputs": [],
   "source": [
    "chromosome[1234567, \"K27\"]"
   ]
  },
  {
   "cell_type": "code",
   "execution_count": null,
   "metadata": {
    "collapsed": false
   },
   "outputs": [],
   "source": [
    "chromosome[1234567, \"K36\"]"
   ]
  },
  {
   "cell_type": "markdown",
   "metadata": {},
   "source": [
    "    What if I try a track which not in our track list"
   ]
  },
  {
   "cell_type": "code",
   "execution_count": null,
   "metadata": {
    "collapsed": false
   },
   "outputs": [],
   "source": [
    "chromosome[1234567, \"K38\"]"
   ]
  },
  {
   "cell_type": "markdown",
   "metadata": {},
   "source": [
    "    Now I get K27 and K36 values for same location is same let's check if they are same with some mistake or not"
   ]
  },
  {
   "cell_type": "code",
   "execution_count": null,
   "metadata": {
    "collapsed": false
   },
   "outputs": [],
   "source": [
    "def valueChecker(start, end):\n",
    "    same = 0\n",
    "    sameNot = 0\n",
    "    for i in range(start, end):\n",
    "        if chromosome[i, \"K27\"] == chromosome[i, \"K36\"]:\n",
    "            same += 1\n",
    "        else:\n",
    "            sameNot += 1\n",
    "    \n",
    "    print \"There are \" + str(same) + \" number of same values\"\n",
    "    print \"There are \" + str(sameNot) + \" number of Notsame values\"\n",
    "    \n",
    "valueChecker(100000, 200000)"
   ]
  },
  {
   "cell_type": "code",
   "execution_count": null,
   "metadata": {
    "collapsed": true
   },
   "outputs": [],
   "source": []
  }
 ],
 "metadata": {
  "kernelspec": {
   "display_name": "Python 2",
   "language": "python",
   "name": "python2"
  },
  "language_info": {
   "codemirror_mode": {
    "name": "ipython",
    "version": 2
   },
   "file_extension": ".py",
   "mimetype": "text/x-python",
   "name": "python",
   "nbconvert_exporter": "python",
   "pygments_lexer": "ipython2",
   "version": "2.7.10"
  }
 },
 "nbformat": 4,
 "nbformat_minor": 0
}
